{
  "nbformat": 4,
  "nbformat_minor": 0,
  "metadata": {
    "colab": {
      "name": "OmdenaEgypt2021Analysis.ipynb",
      "provenance": [],
      "collapsed_sections": [],
      "authorship_tag": "ABX9TyMo5dzPHJY9Y7PbD+O0bv2V",
      "include_colab_link": true
    },
    "kernelspec": {
      "display_name": "Python 3",
      "name": "python3"
    },
    "language_info": {
      "name": "python"
    }
  },
  "cells": [
    {
      "cell_type": "markdown",
      "metadata": {
        "id": "view-in-github",
        "colab_type": "text"
      },
      "source": [
        "<a href=\"https://colab.research.google.com/github/Utpal-Mishra/Omdena-Egypt-Local-Chapter-2021-Notebooks/blob/main/OmdenaEgypt2021Analysis.ipynb\" target=\"_parent\"><img src=\"https://colab.research.google.com/assets/colab-badge.svg\" alt=\"Open In Colab\"/></a>"
      ]
    },
    {
      "cell_type": "markdown",
      "metadata": {
        "id": "rfB2D3sU35fD"
      },
      "source": [
        "### **IMPORT DRIVE**"
      ]
    },
    {
      "cell_type": "code",
      "metadata": {
        "colab": {
          "base_uri": "https://localhost:8080/"
        },
        "id": "Txxxsg-cOwGt",
        "outputId": "172f6223-7359-4393-c4a1-274cb2d91d42"
      },
      "source": [
        "from google.colab import drive\n",
        "drive.mount('/content/drive')\n",
        "\n",
        "print(\"Drive Mounted!!!\")"
      ],
      "execution_count": 1,
      "outputs": [
        {
          "output_type": "stream",
          "text": [
            "Mounted at /content/drive\n",
            "Drive Mounted!!!\n"
          ],
          "name": "stdout"
        }
      ]
    },
    {
      "cell_type": "markdown",
      "metadata": {
        "id": "jq3p3ULQ35m-"
      },
      "source": [
        "### **IMPORT LIBRARIES**"
      ]
    },
    {
      "cell_type": "code",
      "metadata": {
        "colab": {
          "base_uri": "https://localhost:8080/"
        },
        "id": "8fNeEIyAPFpY",
        "outputId": "4011694d-939a-4fc7-cfd3-5fccea1170f7"
      },
      "source": [
        "import pandas as pd\n",
        "import plotly.express as px\n",
        "import plotly.graph_objects as go\n",
        "\n",
        "print(\"Libraries Imported!!!\")"
      ],
      "execution_count": 3,
      "outputs": [
        {
          "output_type": "stream",
          "text": [
            "Libraries Imported!!!\n"
          ],
          "name": "stdout"
        }
      ]
    },
    {
      "cell_type": "markdown",
      "metadata": {
        "id": "uHIFonpe4HnU"
      },
      "source": [
        "### **IMPORT DATA**"
      ]
    },
    {
      "cell_type": "code",
      "metadata": {
        "colab": {
          "base_uri": "https://localhost:8080/",
          "height": 220
        },
        "id": "QtcltTYqO_1x",
        "outputId": "80f395f5-29c2-4c03-c63f-804e236feef4"
      },
      "source": [
        "import datetime\n",
        "\n",
        "path = \"/content/drive/MyDrive/Omdena/Egypt 2021/freshwater_withdrawals.csv\"\n",
        "\n",
        "data = pd.read_csv(path)\n",
        "data = data.drop([\"Unnamed: 0\"], axis = 1)\n",
        "data.rename(columns = {'country_name':'Country Name', 'country_iso3':'Country Code', 'year':'Year', \n",
        "              'indicator_name':'Indicator Name', 'indicator_code':'Indicator Code', 'value':'Value', 'units': 'Units'}, inplace = True)\n",
        "data = data.drop(['Country Code', 'Indicator Code'], axis = 1)\n",
        "print(\"Data Shape: \", data.shape)\n",
        "\n",
        "data = data.sort_values(['Units', 'Indicator Name', 'Year'])\n",
        "data = data.reset_index()\n",
        "data = data.drop(['index'], axis = 1)\n",
        "# data = data[['Year', 'Indicator Name', 'Value']]\n",
        "data.head()"
      ],
      "execution_count": 17,
      "outputs": [
        {
          "output_type": "stream",
          "text": [
            "Data Shape:  (197, 5)\n"
          ],
          "name": "stdout"
        },
        {
          "output_type": "execute_result",
          "data": {
            "text/html": [
              "<div>\n",
              "<style scoped>\n",
              "    .dataframe tbody tr th:only-of-type {\n",
              "        vertical-align: middle;\n",
              "    }\n",
              "\n",
              "    .dataframe tbody tr th {\n",
              "        vertical-align: top;\n",
              "    }\n",
              "\n",
              "    .dataframe thead th {\n",
              "        text-align: right;\n",
              "    }\n",
              "</style>\n",
              "<table border=\"1\" class=\"dataframe\">\n",
              "  <thead>\n",
              "    <tr style=\"text-align: right;\">\n",
              "      <th></th>\n",
              "      <th>Country Name</th>\n",
              "      <th>Year</th>\n",
              "      <th>Indicator Name</th>\n",
              "      <th>Value</th>\n",
              "      <th>Units</th>\n",
              "    </tr>\n",
              "  </thead>\n",
              "  <tbody>\n",
              "    <tr>\n",
              "      <th>0</th>\n",
              "      <td>Egypt, Arab Rep.</td>\n",
              "      <td>1977</td>\n",
              "      <td>Water productivity</td>\n",
              "      <td>0.780681</td>\n",
              "      <td>total (constant 2010 US$ GDP per cubic meter ...</td>\n",
              "    </tr>\n",
              "    <tr>\n",
              "      <th>1</th>\n",
              "      <td>Egypt, Arab Rep.</td>\n",
              "      <td>1982</td>\n",
              "      <td>Water productivity</td>\n",
              "      <td>1.107434</td>\n",
              "      <td>total (constant 2010 US$ GDP per cubic meter ...</td>\n",
              "    </tr>\n",
              "    <tr>\n",
              "      <th>2</th>\n",
              "      <td>Egypt, Arab Rep.</td>\n",
              "      <td>1987</td>\n",
              "      <td>Water productivity</td>\n",
              "      <td>1.416261</td>\n",
              "      <td>total (constant 2010 US$ GDP per cubic meter ...</td>\n",
              "    </tr>\n",
              "    <tr>\n",
              "      <th>3</th>\n",
              "      <td>Egypt, Arab Rep.</td>\n",
              "      <td>1992</td>\n",
              "      <td>Water productivity</td>\n",
              "      <td>1.688940</td>\n",
              "      <td>total (constant 2010 US$ GDP per cubic meter ...</td>\n",
              "    </tr>\n",
              "    <tr>\n",
              "      <th>4</th>\n",
              "      <td>Egypt, Arab Rep.</td>\n",
              "      <td>1997</td>\n",
              "      <td>Water productivity</td>\n",
              "      <td>1.844611</td>\n",
              "      <td>total (constant 2010 US$ GDP per cubic meter ...</td>\n",
              "    </tr>\n",
              "  </tbody>\n",
              "</table>\n",
              "</div>"
            ],
            "text/plain": [
              "       Country Name  ...                                              Units\n",
              "0  Egypt, Arab Rep.  ...   total (constant 2010 US$ GDP per cubic meter ...\n",
              "1  Egypt, Arab Rep.  ...   total (constant 2010 US$ GDP per cubic meter ...\n",
              "2  Egypt, Arab Rep.  ...   total (constant 2010 US$ GDP per cubic meter ...\n",
              "3  Egypt, Arab Rep.  ...   total (constant 2010 US$ GDP per cubic meter ...\n",
              "4  Egypt, Arab Rep.  ...   total (constant 2010 US$ GDP per cubic meter ...\n",
              "\n",
              "[5 rows x 5 columns]"
            ]
          },
          "metadata": {
            "tags": []
          },
          "execution_count": 17
        }
      ]
    },
    {
      "cell_type": "markdown",
      "metadata": {
        "id": "GVok3XAu4PCc"
      },
      "source": [
        "## **EXPLORATORY DATA ANALYSIS**"
      ]
    },
    {
      "cell_type": "markdown",
      "metadata": {
        "id": "CCzcjVn44WjC"
      },
      "source": [
        "### **Checking Missing Values**"
      ]
    },
    {
      "cell_type": "code",
      "metadata": {
        "colab": {
          "base_uri": "https://localhost:8080/"
        },
        "id": "KPcKWeeNRWtC",
        "outputId": "6389f38e-8dcc-473b-eb71-6966bc69de3b"
      },
      "source": [
        "data.isna().sum()"
      ],
      "execution_count": 18,
      "outputs": [
        {
          "output_type": "execute_result",
          "data": {
            "text/plain": [
              "Country Name      0\n",
              "Year              0\n",
              "Indicator Name    0\n",
              "Value             0\n",
              "Units             0\n",
              "dtype: int64"
            ]
          },
          "metadata": {
            "tags": []
          },
          "execution_count": 18
        }
      ]
    },
    {
      "cell_type": "markdown",
      "metadata": {
        "id": "HKTDBkSC4idR"
      },
      "source": [
        "### **Frequency of Indicator Names in Egypt**"
      ]
    },
    {
      "cell_type": "code",
      "metadata": {
        "colab": {
          "base_uri": "https://localhost:8080/"
        },
        "id": "LbPBLudJTHXj",
        "outputId": "2cb8fefe-0997-4463-8497-96c0304eb016"
      },
      "source": [
        "data['Indicator Name'].value_counts() "
      ],
      "execution_count": 19,
      "outputs": [
        {
          "output_type": "execute_result",
          "data": {
            "text/plain": [
              "Annual freshwater withdrawals                                                          56\n",
              "People with basic handwashing facilities including soap and water                      36\n",
              "People using at least basic drinking water services                                    36\n",
              "People with basic handwashing facilities including soap and water (% of population)    18\n",
              "People using at least basic drinking water services (% of population)                  18\n",
              "Renewable internal freshwater resources                                                12\n",
              "Renewable internal freshwater resources per capita (cubic meters)                      12\n",
              "Water productivity                                                                      9\n",
              "Name: Indicator Name, dtype: int64"
            ]
          },
          "metadata": {
            "tags": []
          },
          "execution_count": 19
        }
      ]
    },
    {
      "cell_type": "markdown",
      "metadata": {
        "id": "CPFk-3muq4x3"
      },
      "source": [
        "## **PLOTS**"
      ]
    },
    {
      "cell_type": "markdown",
      "metadata": {
        "id": "hPM6IUDI2AJW"
      },
      "source": [
        "### **Plotting Functions**"
      ]
    },
    {
      "cell_type": "code",
      "metadata": {
        "id": "A04yccG_1mzu"
      },
      "source": [
        "import plotly.express as px\n",
        "\n",
        "def plot(df, title, name, color, dash):\n",
        "  fig = go.Figure()\n",
        "  fig = px.scatter(df, x=df.index, y=\"Value\", size = \"Value\", color = \"Value\")\n",
        "  fig.add_trace(go.Scatter(x=df.index, y=df.Value, name = name, line=dict(color=color, width=2, dash = dash)))\n",
        "  fig.update_xaxes(title_text = \"Year\", rangeslider_visible=True, linewidth=2, linecolor='black', mirror=True)\n",
        "  fig.update_yaxes(title_text = \"Value\", showline=True, linewidth=2, linecolor='black', mirror=True)\n",
        "  fig.update_layout(height=500, width=1000, title_text=title, xaxis_tickangle=-90) \n",
        "  fig.show()"
      ],
      "execution_count": null,
      "outputs": []
    },
    {
      "cell_type": "code",
      "metadata": {
        "id": "6uV1__NZU7b-"
      },
      "source": [
        "# df = data[data[\"Indicator Name\"] == \"Access to electricity, rural (% of rural population)\"]\n",
        "# df = df[[\"Year\", \"Value\"]]\n",
        "# df.set_index(\"Year\", inplace = True)\n",
        "\n",
        "# plot(df, \"Electricity Consumption in Egypt\", \"Egypt Electricity Consumption\", \"red\", \"dash\")"
      ],
      "execution_count": 20,
      "outputs": []
    }
  ]
}